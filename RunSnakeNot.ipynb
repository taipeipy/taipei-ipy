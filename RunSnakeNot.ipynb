{
 "metadata": {
  "name": "RunSnakeNot"
 },
 "nbformat": 3,
 "nbformat_minor": 0,
 "worksheets": [
  {
   "cells": [
    {
     "cell_type": "markdown",
     "metadata": {},
     "source": [
      "# RunSnakeNot\n",
      "\n",
      "* Author: *keitheis*\n",
      "* Licence: [CC0 1.0](http://creativecommons.org/publicdomain/zero/1.0/)\n",
      "\n",
      "Reference the code of [RunSnakeRun by Kilik](https://docs.google.com/presentation/d/1P5143S5y3X0eKLEal6JDo7b_kJiS0loB6bIUc_CEY6Q/edit#slide=id.gbc4d46e9_0172) @ [Taipei.py April 2013](http://www.meetup.com/Taipei-py/events/102668252/)"
     ]
    },
    {
     "cell_type": "code",
     "collapsed": false,
     "input": [
      "import cProfile\n",
      "\n",
      "A = []\n",
      "\n",
      "B = []\n",
      "\n",
      "def test1():\n",
      "\n",
      "    for i in range(10):\n",
      "\n",
      "        A.insert(0, i)\n",
      "\n",
      "def test2():\n",
      "\n",
      "    for i in range(100):\n",
      "\n",
      "        B.insert(0, i)\n",
      "\n",
      "def test3():\n",
      "\n",
      "    test1()\n",
      "\n",
      "    test2()\n",
      "    \n",
      "cProfile.runctx('test3()', globals(), locals())"
     ],
     "language": "python",
     "metadata": {},
     "outputs": [
      {
       "output_type": "stream",
       "stream": "stdout",
       "text": [
        "         116 function calls in 0.000 seconds\n",
        "\n",
        "   Ordered by: standard name\n",
        "\n",
        "   ncalls  tottime  percall  cumtime  percall filename:lineno(function)\n",
        "        1    0.000    0.000    0.000    0.000 <ipython-input-2-64ad0edf581b>:13(test2)\n",
        "        1    0.000    0.000    0.000    0.000 <ipython-input-2-64ad0edf581b>:19(test3)\n",
        "        1    0.000    0.000    0.000    0.000 <ipython-input-2-64ad0edf581b>:7(test1)\n",
        "        1    0.000    0.000    0.000    0.000 <string>:1(<module>)\n",
        "        1    0.000    0.000    0.000    0.000 {built-in method exec}\n",
        "        1    0.000    0.000    0.000    0.000 {method 'disable' of '_lsprof.Profiler' objects}\n",
        "      110    0.000    0.000    0.000    0.000 {method 'insert' of 'list' objects}\n",
        "\n",
        "\n"
       ]
      }
     ],
     "prompt_number": 2
    },
    {
     "cell_type": "code",
     "collapsed": false,
     "input": [],
     "language": "python",
     "metadata": {},
     "outputs": []
    }
   ],
   "metadata": {}
  }
 ]
}